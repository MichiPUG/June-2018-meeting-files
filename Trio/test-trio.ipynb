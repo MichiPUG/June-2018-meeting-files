{
 "cells": [
  {
   "cell_type": "code",
   "execution_count": 1,
   "metadata": {},
   "outputs": [
    {
     "name": "stdout",
     "output_type": "stream",
     "text": [
      "starting many jobs at time 0.0\n",
      "\u001b[32mstarting a 6 second job, 'E' at time 0.0\u001b[0m\n",
      "\u001b[32mstarting a 5 second job, 'C' at time 0.0\u001b[0m\n",
      "\u001b[32mstarting a 4 second job, 'A' at time 0.0\u001b[0m\n",
      "\u001b[32mstarting a 2 second job, 'B' at time 0.0\u001b[0m\n",
      "\u001b[32mstarting a 1 second job, 'D' at time 0.0\u001b[0m\n",
      "\u001b[32mstarting a 1.5 second job, 'D.child' at time 0.0\u001b[0m\n",
      "\u001b[32mstarting a 7.5 second job, 'C.child' at time 0.0\u001b[0m\n",
      "\u001b[31mfinished a 1 second job, 'D' at time 1.0\u001b[0m\n",
      "\u001b[31mfinished a 1.5 second job, 'D.child' at time 1.5\u001b[0m\n",
      "\u001b[31mfinished a 2 second job, 'B' at time 2.0\u001b[0m\n",
      "\u001b[31mfinished a 4 second job, 'A' at time 4.0\u001b[0m\n",
      "\u001b[31mfinished a 5 second job, 'C' at time 5.0\u001b[0m\n",
      "\u001b[31mfinished a 6 second job, 'E' at time 6.0\u001b[0m\n",
      "\u001b[31mfinished a 7.5 second job, 'C.child' at time 7.5\u001b[0m\n",
      "finished many jobs at time 7.5\n"
     ]
    }
   ],
   "source": [
    "import time\n",
    "from termcolor import colored\n",
    "import trio\n",
    "\n",
    "base_time = time.monotonic()\n",
    "\n",
    "async def do_a_job(t, label, nursery=None):\n",
    "    print(colored(f\"starting a {t} second job, '{label}' at time {time.monotonic()-base_time:.1f}\", \"green\"))\n",
    "    if nursery is not None:\n",
    "        nursery.start_soon(do_a_job, t*1.5, label+'.child')\n",
    "    # if t in {5, 6}:\n",
    "    #     raise Exception(\"can't run a job for 5 or 6 seconds\")\n",
    "    await trio.sleep(t)\n",
    "    print(colored(f\"finished a {t} second job, '{label}' at time {time.monotonic()-base_time:.1f}\", \"red\"))\n",
    "    \n",
    "async def do_many_jobs():\n",
    "    print(f\"starting many jobs at time {time.monotonic()-base_time:.1f}\")\n",
    "    with trio.move_on_after(80) as cancel_scope:\n",
    "        async with trio.open_nursery() as nursery:\n",
    "            nursery.start_soon(do_a_job, 4, 'A')\n",
    "            nursery.start_soon(do_a_job, 2, 'B')\n",
    "            nursery.start_soon(do_a_job, 5, 'C', nursery)\n",
    "            nursery.start_soon(do_a_job, 1, 'D', nursery)\n",
    "            nursery.start_soon(do_a_job, 6, 'E')\n",
    "    if cancel_scope.cancelled_caught:\n",
    "        print(f\"may have finished some jobs at time {time.monotonic()-base_time:.1f}\")\n",
    "    else:\n",
    "        print(f\"finished many jobs at time {time.monotonic()-base_time:.1f}\")\n",
    "    \n",
    "async def main():\n",
    "    await do_many_jobs()\n",
    "\n",
    "trio.run(main)"
   ]
  },
  {
   "cell_type": "code",
   "execution_count": null,
   "metadata": {},
   "outputs": [],
   "source": []
  }
 ],
 "metadata": {
  "kernelspec": {
   "display_name": "Python 3",
   "language": "python",
   "name": "python3"
  },
  "language_info": {
   "codemirror_mode": {
    "name": "ipython",
    "version": 3
   },
   "file_extension": ".py",
   "mimetype": "text/x-python",
   "name": "python",
   "nbconvert_exporter": "python",
   "pygments_lexer": "ipython3",
   "version": "3.6.5"
  }
 },
 "nbformat": 4,
 "nbformat_minor": 2
}
