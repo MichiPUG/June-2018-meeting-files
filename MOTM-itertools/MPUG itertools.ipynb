{
 "cells": [
  {
   "cell_type": "markdown",
   "metadata": {},
   "source": [
    "# Python3 itertools"
   ]
  },
  {
   "cell_type": "markdown",
   "metadata": {},
   "source": [
    "## But first, a little bit about Iterators\n",
    "\n",
    "Itertools is a module with functions that \"operate\" on iterators, often to produce more complex iterators. So you want to be familar with iterators to use itertools, but luckily you have used iterators already. This won't be an in-depth exploration of iterators, but more of a reminder to lead into a discussion of itertools.\n",
    "\n",
    "\n",
    "# iterable\n",
    "\n",
    "Lots of python built in types are iterable, which is to say they can return members one at a time, including all sequences, like list, range, str, and tuple, and some others like dict and file and set. An iterable can supply at iterator through the function iter(). "
   ]
  },
  {
   "cell_type": "code",
   "execution_count": 2,
   "metadata": {},
   "outputs": [
    {
     "data": {
      "text/plain": [
       "<str_iterator at 0x7fba88eb5400>"
      ]
     },
     "execution_count": 2,
     "metadata": {},
     "output_type": "execute_result"
    }
   ],
   "source": [
    "iter(\"abcde\")"
   ]
  },
  {
   "cell_type": "code",
   "execution_count": 3,
   "metadata": {},
   "outputs": [
    {
     "data": {
      "text/plain": [
       "['a', 'b', 'c', 'e', 'd']"
      ]
     },
     "execution_count": 3,
     "metadata": {},
     "output_type": "execute_result"
    }
   ],
   "source": [
    "list(iter(\"abced\"))"
   ]
  },
  {
   "cell_type": "markdown",
   "metadata": {},
   "source": [
    "But the place you probably know them best is in the for-in loop:\n",
    "\n",
    "```\n",
    "for item in iterable:\n",
    "    # whatever\n",
    "```\n",
    "\n",
    "A for loop effectively gets an iterator for the iterable, and loops using \"next()\" to get each item, until finally a StopIteration exception is raised, indicating that the iterator has been exhausted."
   ]
  },
  {
   "cell_type": "code",
   "execution_count": 1,
   "metadata": {},
   "outputs": [
    {
     "name": "stdout",
     "output_type": "stream",
     "text": [
      "1\n",
      "2\n",
      "3\n",
      "4\n"
     ]
    },
    {
     "ename": "StopIteration",
     "evalue": "",
     "output_type": "error",
     "traceback": [
      "\u001b[0;31m---------------------------------------------------------------------------\u001b[0m",
      "\u001b[0;31mStopIteration\u001b[0m                             Traceback (most recent call last)",
      "\u001b[0;32m<ipython-input-1-c3d239547df9>\u001b[0m in \u001b[0;36m<module>\u001b[0;34m()\u001b[0m\n\u001b[1;32m      4\u001b[0m \u001b[0mprint\u001b[0m\u001b[0;34m(\u001b[0m\u001b[0mnext\u001b[0m\u001b[0;34m(\u001b[0m\u001b[0msimpleiter\u001b[0m\u001b[0;34m)\u001b[0m\u001b[0;34m)\u001b[0m\u001b[0;34m\u001b[0m\u001b[0m\n\u001b[1;32m      5\u001b[0m \u001b[0mprint\u001b[0m\u001b[0;34m(\u001b[0m\u001b[0mnext\u001b[0m\u001b[0;34m(\u001b[0m\u001b[0msimpleiter\u001b[0m\u001b[0;34m)\u001b[0m\u001b[0;34m)\u001b[0m\u001b[0;34m\u001b[0m\u001b[0m\n\u001b[0;32m----> 6\u001b[0;31m \u001b[0mprint\u001b[0m\u001b[0;34m(\u001b[0m\u001b[0mnext\u001b[0m\u001b[0;34m(\u001b[0m\u001b[0msimpleiter\u001b[0m\u001b[0;34m)\u001b[0m\u001b[0;34m)\u001b[0m\u001b[0;34m\u001b[0m\u001b[0m\n\u001b[0m\u001b[1;32m      7\u001b[0m \u001b[0mprint\u001b[0m\u001b[0;34m(\u001b[0m\u001b[0mnext\u001b[0m\u001b[0;34m(\u001b[0m\u001b[0msimpleiter\u001b[0m\u001b[0;34m)\u001b[0m\u001b[0;34m)\u001b[0m\u001b[0;34m\u001b[0m\u001b[0m\n",
      "\u001b[0;31mStopIteration\u001b[0m: "
     ]
    }
   ],
   "source": [
    "simpleiter = iter([1,2,3,4])\n",
    "print(next(simpleiter))\n",
    "print(next(simpleiter))\n",
    "print(next(simpleiter))\n",
    "print(next(simpleiter))\n",
    "print(next(simpleiter))\n",
    "print(next(simpleiter))\n"
   ]
  },
  {
   "cell_type": "code",
   "execution_count": 23,
   "metadata": {},
   "outputs": [
    {
     "name": "stdout",
     "output_type": "stream",
     "text": [
      "a\n",
      "b\n",
      "c\n",
      "d\n",
      "e\n",
      "f\n",
      "g\n"
     ]
    }
   ],
   "source": [
    "for letter in 'abcdefg':\n",
    "    print(letter)"
   ]
  },
  {
   "cell_type": "markdown",
   "metadata": {},
   "source": [
    "Note: an container object like a list produces a new iterator each time you use it in a for loop, but an iterator itself gets exhausted and can't be repeatedly used"
   ]
  },
  {
   "cell_type": "code",
   "execution_count": 27,
   "metadata": {},
   "outputs": [
    {
     "name": "stdout",
     "output_type": "stream",
     "text": [
      "a\n",
      "b\n",
      "c\n",
      "a\n",
      "b\n",
      "c\n"
     ]
    }
   ],
   "source": [
    "contain = 'abc'\n",
    "for letter in contain:\n",
    "    print(letter)\n",
    "for letter in contain:\n",
    "    print(letter)"
   ]
  },
  {
   "cell_type": "code",
   "execution_count": 2,
   "metadata": {},
   "outputs": [
    {
     "name": "stdout",
     "output_type": "stream",
     "text": [
      "a\n",
      "b\n",
      "c\n"
     ]
    }
   ],
   "source": [
    "iterator = iter('abc')\n",
    "for letter in iterator:\n",
    "    print(letter)\n",
    "for letter in iterator:\n",
    "    print(letter)"
   ]
  },
  {
   "cell_type": "markdown",
   "metadata": {},
   "source": [
    "# builtin iterator functions\n",
    "\n",
    "Python provide some functions that take iterators (or iterables) and return iterators, like zip(), map(), enumerate(), and filter()"
   ]
  },
  {
   "cell_type": "code",
   "execution_count": 17,
   "metadata": {},
   "outputs": [
    {
     "name": "stdout",
     "output_type": "stream",
     "text": [
      "<zip object at 0x7fba88e39948>\n",
      "('1', 'a') ('2', 'b') ('3', 'c')\n"
     ]
    }
   ],
   "source": [
    "print(zip('123', 'abc'))\n",
    "print(*zip('123','abc'))\n"
   ]
  },
  {
   "cell_type": "code",
   "execution_count": 18,
   "metadata": {},
   "outputs": [
    {
     "data": {
      "text/plain": [
       "[3, 8, 3]"
      ]
     },
     "execution_count": 18,
     "metadata": {},
     "output_type": "execute_result"
    }
   ],
   "source": [
    "list(map(len, ['abc', 'whatever', range(3)]))"
   ]
  },
  {
   "cell_type": "code",
   "execution_count": 3,
   "metadata": {},
   "outputs": [
    {
     "data": {
      "text/plain": [
       "<enumerate at 0x7f6be81c6798>"
      ]
     },
     "execution_count": 3,
     "metadata": {},
     "output_type": "execute_result"
    }
   ],
   "source": [
    "#list(enumerate((x for x in range(30) if not x % 3)))\n",
    "enumerate((x for x in range(30) if not x % 3))"
   ]
  },
  {
   "cell_type": "markdown",
   "metadata": {},
   "source": [
    "An important feature for iterators is that they are themselves are iterable, so you can combine them"
   ]
  },
  {
   "cell_type": "code",
   "execution_count": 47,
   "metadata": {},
   "outputs": [
    {
     "name": "stdout",
     "output_type": "stream",
     "text": [
      "[(1, 2, 3), (4, 5, 6), (7, 8, 9)]\n",
      "[(1, 1, 1), (2, 2, 2), (3, 3, 3), (4, 4, 4), (5, 5, 5), (6, 6, 6), (7, 7, 7), (8, 8, 8), (9, 9, 9), (10, 10, 10)]\n"
     ]
    }
   ],
   "source": [
    "from itertools import tee\n",
    "# Group an iterable into tuples of some size\n",
    "# Note that we are taking advantage of using the same iterator\n",
    "def group(inputs, n):\n",
    "    iters = [iter(inputs)] * n\n",
    "    return zip(*iters)\n",
    "\n",
    "print(list(group([1,2,3,4,5,6,7,8,9,10], 3)))\n",
    "\n",
    "def group2(inputs, n):\n",
    "    # Doesn't work if the iterators are separate\n",
    "    iters = tee(iter(inputs), n)\n",
    "    return zip(*iters)\n",
    "    \n",
    "print(list(group2([1,2,3,4,5,6,7,8,9,10], 3)))"
   ]
  },
  {
   "cell_type": "markdown",
   "metadata": {},
   "source": [
    "Note that 10 was excluded; zip stops at \"shortest list\""
   ]
  },
  {
   "cell_type": "code",
   "execution_count": 46,
   "metadata": {},
   "outputs": [
    {
     "name": "stdout",
     "output_type": "stream",
     "text": [
      "[(1, 2, 3), (4, 5, 6), (7, 8, 9), (10, None, None)]\n"
     ]
    }
   ],
   "source": [
    "from itertools import zip_longest\n",
    "def group(inputs, n):\n",
    "    iters = [iter(inputs)] * n\n",
    "    return zip_longest(*iters)\n",
    "\n",
    "print(list(group([1,2,3,4,5,6,7,8,9,10], 3)))\n",
    "\n"
   ]
  },
  {
   "cell_type": "code",
   "execution_count": 5,
   "metadata": {},
   "outputs": [
    {
     "data": {
      "text/plain": [
       "[4, 4, 4]"
      ]
     },
     "execution_count": 5,
     "metadata": {},
     "output_type": "execute_result"
    }
   ],
   "source": [
    "x = [4] * 3\n",
    "x\n"
   ]
  },
  {
   "cell_type": "code",
   "execution_count": 70,
   "metadata": {},
   "outputs": [
    {
     "name": "stdout",
     "output_type": "stream",
     "text": [
      "(1, 2) (1, 3) (1, 4) (2, 3) (2, 4) (3, 4)\n",
      "(1, 1, 1) (1, 1, 2) (1, 1, 3) (1, 2, 2) (1, 2, 3) (1, 3, 3) (2, 2, 2) (2, 2, 3) (2, 3, 3) (3, 3, 3)\n",
      "('a', 'b', 'c') ('a', 'c', 'b') ('b', 'a', 'c') ('b', 'c', 'a') ('c', 'a', 'b') ('c', 'b', 'a')\n"
     ]
    }
   ],
   "source": [
    "from itertools import permutations, combinations, combinations_with_replacement\n",
    "# Permuations and combinations are useful\n",
    "\n",
    "print(*combinations([1,2,3,4],2))\n",
    "print(*combinations_with_replacement([1,2,3],3))\n",
    "print(*(permutations('abc')))\n"
   ]
  },
  {
   "cell_type": "code",
   "execution_count": 7,
   "metadata": {},
   "outputs": [
    {
     "name": "stdout",
     "output_type": "stream",
     "text": [
      "0.1 0.30000000000000004 0.6000000000000001 1.0 1.5 2.1\n"
     ]
    }
   ],
   "source": [
    "from itertools import accumulate, count, islice\n",
    "\n",
    "print(*accumulate(islice(count(0.1,0.1),6)))"
   ]
  },
  {
   "cell_type": "code",
   "execution_count": 14,
   "metadata": {},
   "outputs": [
    {
     "name": "stdout",
     "output_type": "stream",
     "text": [
      "0.1 0.2 0.30000000000000004 0.4 0.5 0.6 0.7 0.7999999999999999 0.8999999999999999 0.9999999999999999 1.0999999999999999 1.2 1.3 1.4000000000000001 1.5000000000000002 1.6000000000000003 1.7000000000000004 1.8000000000000005 1.9000000000000006\n",
      "0.1 0.2 0.30000000000000004 0.4 0.5 0.6 0.7000000000000001 0.8 0.9 1.0 1.1 1.2000000000000002 1.3000000000000003 1.4000000000000001 1.5000000000000002 1.6 1.7000000000000002 1.8000000000000003 1.9000000000000001\n"
     ]
    }
   ],
   "source": [
    "from itertools import takewhile, count\n",
    "print(*takewhile(lambda x: x<2, count(0.1, 0.1)))\n",
    "print(*takewhile(lambda x: x<2, (0.1 + 0.1 * i for i in count())))"
   ]
  },
  {
   "cell_type": "code",
   "execution_count": 8,
   "metadata": {},
   "outputs": [
    {
     "name": "stdout",
     "output_type": "stream",
     "text": [
      "0.1 0.2 0.3 0.4 0.5 0.6 0.7 0.8 0.9 1.0 1.1 1.2 1.3 1.4 1.5 1.6 1.7 1.8 1.9\n"
     ]
    }
   ],
   "source": [
    "from decimal import Decimal\n",
    "from itertools import takewhile, count\n",
    "start = Decimal('0.1')\n",
    "step = Decimal('0.1')\n",
    "print(*takewhile(lambda x: x<2, count(start, step)))"
   ]
  },
  {
   "cell_type": "code",
   "execution_count": 10,
   "metadata": {},
   "outputs": [
    {
     "name": "stdout",
     "output_type": "stream",
     "text": [
      " 2S  2H  2D  2C \n",
      " 3S  3H  3D  3C \n",
      " 4S  4H  4D  4C \n",
      " 5S  5H  5D  5C \n",
      " 6S  6H  6D  6C \n",
      " 7S  7H  7D  7C \n",
      " 8S  8H  8D  8C \n",
      " 9S  9H  9D  9C \n",
      "10S 10H 10D 10C \n",
      " JS  JH  JD  JC \n",
      " QS  QH  QD  QC \n",
      " KS  KH  KD  KC \n",
      " AS  AH  AD  AC \n"
     ]
    }
   ],
   "source": [
    "from itertools import product, chain\n",
    "FACE_CARDS = ('J', 'Q', 'K', 'A')\n",
    "SUITS = ('S', 'H', 'D', 'C')\n",
    "\n",
    "DECK = product(\n",
    "        chain(range(2,11), FACE_CARDS),\n",
    "        SUITS,)\n",
    "\n",
    "for card in DECK:\n",
    "    print('{:>2}{}'.format(*card), end=' ')\n",
    "    if card[1] == SUITS[-1]:\n",
    "        print()"
   ]
  },
  {
   "cell_type": "code",
   "execution_count": null,
   "metadata": {},
   "outputs": [],
   "source": []
  }
 ],
 "metadata": {
  "kernelspec": {
   "display_name": "Python 3",
   "language": "python",
   "name": "python3"
  },
  "language_info": {
   "codemirror_mode": {
    "name": "ipython",
    "version": 3
   },
   "file_extension": ".py",
   "mimetype": "text/x-python",
   "name": "python",
   "nbconvert_exporter": "python",
   "pygments_lexer": "ipython3",
   "version": "3.5.2"
  }
 },
 "nbformat": 4,
 "nbformat_minor": 2
}
